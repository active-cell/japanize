{
 "cells": [
  {
   "cell_type": "code",
   "execution_count": 10,
   "metadata": {
    "collapsed": false
   },
   "outputs": [],
   "source": [
    "#! /usr/bin/python\n",
    "from PIL import Image\n",
    "from PIL.ImageChops import difference\n",
    "from PIL.ImageChops import subtract\n",
    "from IPython.display import display\n",
    "from IPython.html.widgets import interact_manual\n",
    "import os\n",
    "#Created by vvdr12\n",
    "#Fully open license.  Have fun.\n",
    "#change threshold value in 'def contrastspoints' for higher/lower line density.\n",
    "#put a 'test.jpg' file in the same folder as the code.\n",
    "\n",
    "#_functions______________________________________________\n",
    "def japanize(filename,threshold):\n",
    "    \n",
    "    def contrastpoints(x,j,img,threshold):\n",
    "        #threshold=20\n",
    "        contrast=[]\n",
    "        i=0\n",
    "        l2=1\n",
    "        while l2==1:\n",
    "\n",
    "            r1=img[i,j][0]\n",
    "            b1=img[i,j][1]\n",
    "            g1=img[i,j][2]\n",
    "            ave1=((r1+b1+g1)/3)\n",
    "\n",
    "            r2=img[(i+1),j][0]\n",
    "            b2=img[(i+1),j][1]\n",
    "            g2=img[(i+1),j][2]\n",
    "            ave2=((r2+b2+g2)/3)\n",
    "\n",
    "            r3=img[(i+2),j][0]\n",
    "            b3=img[(i+2),j][1]\n",
    "            g3=img[(i+2),j][2]\n",
    "            ave3=((r3+b3+g3)/3)\n",
    "\n",
    "            r4=img[(i+3),j][0]\n",
    "            b4=img[(i+3),j][1]\n",
    "            g4=img[(i+3),j][2]\n",
    "            ave4=((r4+b4+g4)/3)\n",
    "\n",
    "            if abs(ave2-ave1)>threshold:\n",
    "                if abs(ave1-ave3)>(threshold/2):\n",
    "                    contrast.append(i)\n",
    "\n",
    "            i=i+1\t\t\n",
    "            if i==(x-3):\n",
    "                l2=0\n",
    "        return contrast\n",
    "\n",
    "    #_Page_Setup____________________________________________\n",
    "    #filename = 'from-the-faraway-nearby-by-georgia-okeeffe-1928.jpg'\n",
    "    source = Image.open('img/' + filename)\n",
    "    img = source.load()\n",
    "    #print source.format\n",
    "    #print source.size\n",
    "    #print source.mode\n",
    "\n",
    "    x = source.size[0]\n",
    "    y = source.size[1]\n",
    "\n",
    "\n",
    "\n",
    "    #_______________________________________________________\n",
    "\n",
    "\n",
    "    i=0\n",
    "    j=0#set to 500 for short test run\n",
    "    k=0\n",
    "    l=0\n",
    "    m=0 #contrast func\n",
    "    l1=1\n",
    "    contrast=contrastpoints(x,j,img,threshold) #contrast func\n",
    "    #print \"\\n\", j, \"/\", y\n",
    "    while (l1==1):\n",
    "\n",
    "        if len(contrast)>m: #contrast func\n",
    "            if i>=contrast[m]:\n",
    "                img[i,j]=(0,0,0)\n",
    "                m=m+1\n",
    "\n",
    "        i=i+1\n",
    "        if i==(x-1):\n",
    "            contrast=contrastpoints(x,j,img,threshold) #contrast func\n",
    "            m=0 #contrast func\n",
    "            i=0\n",
    "\n",
    "            k=k+1\n",
    "            if k==1:\n",
    "                k=0\n",
    "\n",
    "                j=j+1\n",
    "                #print j, \"/\",y\t\t\n",
    "                if j==y: #set to 510 for short test run\n",
    "                    l1=0\n",
    "\n",
    "\n",
    "    t = difference(Image.open('img/' + filename), source)\n",
    "    display(t)"
   ]
  },
  {
   "cell_type": "code",
   "execution_count": 11,
   "metadata": {
    "collapsed": false
   },
   "outputs": [
    {
     "data": {
      "text/plain": [
       "<function __main__.japanize>"
      ]
     },
     "execution_count": 11,
     "metadata": {},
     "output_type": "execute_result"
    }
   ],
   "source": [
    "images = [f for f in os.listdir('img/')]\n",
    "interact_manual(japanize, filename=images, threshold=(0,100))"
   ]
  },
  {
   "cell_type": "code",
   "execution_count": null,
   "metadata": {
    "collapsed": true
   },
   "outputs": [],
   "source": []
  }
 ],
 "metadata": {
  "kernelspec": {
   "display_name": "Python 2",
   "language": "python",
   "name": "python2"
  },
  "language_info": {
   "codemirror_mode": {
    "name": "ipython",
    "version": 2
   },
   "file_extension": ".py",
   "mimetype": "text/x-python",
   "name": "python",
   "nbconvert_exporter": "python",
   "pygments_lexer": "ipython2",
   "version": "2.7.6"
  }
 },
 "nbformat": 4,
 "nbformat_minor": 0
}
